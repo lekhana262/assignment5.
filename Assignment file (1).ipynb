{
 "cells": [
  {
   "cell_type": "markdown",
   "metadata": {},
   "source": [
    "To open a file using try and exception"
   ]
  },
  {
   "cell_type": "code",
   "execution_count": 25,
   "metadata": {},
   "outputs": [
    {
     "name": "stdout",
     "output_type": "stream",
     "text": [
      "Some error came up\n"
     ]
    }
   ],
   "source": [
    "try:\n",
    "    f = open(\"abcfile.txt\")\n",
    "except:\n",
    "     print(\"Some error came up\")\n"
   ]
  },
  {
   "cell_type": "markdown",
   "metadata": {},
   "source": [
    "To split the data in a file"
   ]
  },
  {
   "cell_type": "code",
   "execution_count": 1,
   "metadata": {},
   "outputs": [],
   "source": [
    "with open(\"my_file.txt\", \"r\") as my_file:\n",
    "  for line in my_file:\n",
    "      str = line.split()\n",
    "      print(str)\n"
   ]
  },
  {
   "cell_type": "markdown",
   "metadata": {},
   "source": [
    "To read the contents of a file using with statement\n"
   ]
  },
  {
   "cell_type": "code",
   "execution_count": 64,
   "metadata": {},
   "outputs": [
    {
     "name": "stdout",
     "output_type": "stream",
     "text": [
      "Hello \n",
      "World\n",
      "India \n",
      "Banglore\n",
      "\n"
     ]
    }
   ],
   "source": [
    "L = [\"World\\n\", \"India \\n\", \"Banglore\\n\"] \n",
    "with open(\"myfile.txt\", \"w\") as file1: \n",
    "    file1.write(\"Hello \\n\") \n",
    "    file1.writelines(L) \n",
    "    file1.close()  \n",
    "  \n",
    "with open(\"myfile.txt\", \"r+\") as file1: \n",
    "    print(file1.read()) "
   ]
  },
  {
   "cell_type": "markdown",
   "metadata": {},
   "source": [
    "To remove file and directory"
   ]
  },
  {
   "cell_type": "code",
   "execution_count": 72,
   "metadata": {},
   "outputs": [
    {
     "name": "stdout",
     "output_type": "stream",
     "text": [
      "error\n"
     ]
    }
   ],
   "source": [
    "import os\n",
    "myfile='/tmp/tee.txt'\n",
    "if os.path.isfile(myfile):\n",
    "    os.remove(mtfile)\n",
    "else:\n",
    "    print('error')"
   ]
  },
  {
   "cell_type": "markdown",
   "metadata": {},
   "source": [
    "To create a list and access the elments in the list"
   ]
  },
  {
   "cell_type": "code",
   "execution_count": 76,
   "metadata": {},
   "outputs": [
    {
     "name": "stdout",
     "output_type": "stream",
     "text": [
      "\n",
      "List with the use of Numbers: \n",
      "[11, 2, 46, 4, 39, 3, 65]\n",
      "\n",
      "List with the use of words: \n",
      "['Hello,coffe,python,java']\n"
     ]
    }
   ],
   "source": [
    "List = [11, 2, 46, 4, 39, 3, 65] \n",
    "print(\"\\nList with the use of Numbers: \") \n",
    "print(List)  \n",
    "List = [\"Hello,coffe,python,java\"] \n",
    "print(\"\\nList with the use of words: \") \n",
    "print(List) \n"
   ]
  },
  {
   "cell_type": "code",
   "execution_count": null,
   "metadata": {},
   "outputs": [],
   "source": []
  }
 ],
 "metadata": {
  "kernelspec": {
   "display_name": "Python 3",
   "language": "python",
   "name": "python3"
  },
  "language_info": {
   "codemirror_mode": {
    "name": "ipython",
    "version": 3
   },
   "file_extension": ".py",
   "mimetype": "text/x-python",
   "name": "python",
   "nbconvert_exporter": "python",
   "pygments_lexer": "ipython3",
   "version": "3.7.6"
  }
 },
 "nbformat": 4,
 "nbformat_minor": 4
}

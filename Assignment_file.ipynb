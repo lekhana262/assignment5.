{
  "nbformat": 4,
  "nbformat_minor": 0,
  "metadata": {
    "kernelspec": {
      "display_name": "Python 3",
      "language": "python",
      "name": "python3"
    },
    "language_info": {
      "codemirror_mode": {
        "name": "ipython",
        "version": 3
      },
      "file_extension": ".py",
      "mimetype": "text/x-python",
      "name": "python",
      "nbconvert_exporter": "python",
      "pygments_lexer": "ipython3",
      "version": "3.7.6"
    },
    "colab": {
      "name": "Assignment file.ipynb",
      "provenance": [],
      "include_colab_link": true
    }
  },
  "cells": [
    {
      "cell_type": "markdown",
      "metadata": {
        "id": "view-in-github",
        "colab_type": "text"
      },
      "source": [
        "<a href=\"https://colab.research.google.com/github/lekhana262/assignment5./blob/master/Assignment_file.ipynb\" target=\"_parent\"><img src=\"https://colab.research.google.com/assets/colab-badge.svg\" alt=\"Open In Colab\"/></a>"
      ]
    },
    {
      "cell_type": "markdown",
      "metadata": {
        "id": "jAlXJt-eOGtt",
        "colab_type": "text"
      },
      "source": [
        "To open a file using try and exception"
      ]
    },
    {
      "cell_type": "code",
      "metadata": {
        "id": "aHSYgAMKOGtw",
        "colab_type": "code",
        "colab": {},
        "outputId": "a6f4a32e-1c65-4525-8d70-be19d51b823c"
      },
      "source": [
        "try:\n",
        "    f = open(\"abcfile.txt\")\n",
        "except:\n",
        "     print(\"Some error came up\")\n"
      ],
      "execution_count": null,
      "outputs": [
        {
          "output_type": "stream",
          "text": [
            "Some error came up\n"
          ],
          "name": "stdout"
        }
      ]
    },
    {
      "cell_type": "markdown",
      "metadata": {
        "id": "tEnkEQGKOGt_",
        "colab_type": "text"
      },
      "source": [
        "To split the data in a file"
      ]
    },
    {
      "cell_type": "code",
      "metadata": {
        "id": "8BkCodYoOGuA",
        "colab_type": "code",
        "colab": {}
      },
      "source": [
        "with open(\"my_file.txt\", \"r\") as my_file:\n",
        "  for line in my_file:\n",
        "      str = line.split()\n",
        "      print(str)\n"
      ],
      "execution_count": null,
      "outputs": []
    },
    {
      "cell_type": "markdown",
      "metadata": {
        "id": "Ty7ionjHOGuI",
        "colab_type": "text"
      },
      "source": [
        "To read the contents of a file using with statement\n"
      ]
    },
    {
      "cell_type": "code",
      "metadata": {
        "id": "U0pJYg8iOGuJ",
        "colab_type": "code",
        "colab": {},
        "outputId": "6d700bbe-46d6-49d2-c98f-e2d822efe76e"
      },
      "source": [
        "L = [\"World\\n\", \"India \\n\", \"Banglore\\n\"] \n",
        "with open(\"myfile.txt\", \"w\") as file1: \n",
        "    file1.write(\"Hello \\n\") \n",
        "    file1.writelines(L) \n",
        "    file1.close()  \n",
        "  \n",
        "with open(\"myfile.txt\", \"r+\") as file1: \n",
        "    print(file1.read()) "
      ],
      "execution_count": null,
      "outputs": [
        {
          "output_type": "stream",
          "text": [
            "Hello \n",
            "World\n",
            "India \n",
            "Banglore\n",
            "\n"
          ],
          "name": "stdout"
        }
      ]
    },
    {
      "cell_type": "markdown",
      "metadata": {
        "id": "4ptxzOR_OGuU",
        "colab_type": "text"
      },
      "source": [
        "To remove file and directory"
      ]
    },
    {
      "cell_type": "code",
      "metadata": {
        "id": "DMm70QxTOGuW",
        "colab_type": "code",
        "colab": {},
        "outputId": "f8ce7eaa-9313-40b5-a730-ac3c721f3ad7"
      },
      "source": [
        "import os\n",
        "myfile='/tmp/tee.txt'\n",
        "if os.path.isfile(myfile):\n",
        "    os.remove(mtfile)\n",
        "else:\n",
        "    print('error')"
      ],
      "execution_count": null,
      "outputs": [
        {
          "output_type": "stream",
          "text": [
            "error\n"
          ],
          "name": "stdout"
        }
      ]
    },
    {
      "cell_type": "markdown",
      "metadata": {
        "id": "KxfZt0lvOGue",
        "colab_type": "text"
      },
      "source": [
        "To create a list and access the elments in the list"
      ]
    },
    {
      "cell_type": "code",
      "metadata": {
        "id": "v0Y_Fut-OGuf",
        "colab_type": "code",
        "colab": {},
        "outputId": "9da4eee1-999f-461c-9f74-e540f5d484bf"
      },
      "source": [
        "List = [11, 2, 46, 4, 39, 3, 65] \n",
        "print(\"\\nList with the use of Numbers: \") \n",
        "print(List)  \n",
        "List = [\"Hello,coffe,python,java\"] \n",
        "print(\"\\nList with the use of words: \") \n",
        "print(List) \n"
      ],
      "execution_count": null,
      "outputs": [
        {
          "output_type": "stream",
          "text": [
            "\n",
            "List with the use of Numbers: \n",
            "[11, 2, 46, 4, 39, 3, 65]\n",
            "\n",
            "List with the use of words: \n",
            "['Hello,coffe,python,java']\n"
          ],
          "name": "stdout"
        }
      ]
    },
    {
      "cell_type": "code",
      "metadata": {
        "id": "sRO2o3azOGun",
        "colab_type": "code",
        "colab": {}
      },
      "source": [
        ""
      ],
      "execution_count": null,
      "outputs": []
    }
  ]
}